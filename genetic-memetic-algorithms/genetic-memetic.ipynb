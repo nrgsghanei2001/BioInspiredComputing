{
 "cells": [
  {
   "cell_type": "code",
   "execution_count": 8,
   "metadata": {},
   "outputs": [],
   "source": [
    "class Data:\n",
    "\n",
    "    # initialize needed values\n",
    "    def __init__(self, data_address):\n",
    "        self.address   = data_address      # address of test file\n",
    "        self.degree    = 0                 # degree of polynomial\n",
    "        self.low       = 0                 # lower bound of coefs\n",
    "        self.high      = 0                 # upper bound of coefs\n",
    "        self.num_points = 0                 # number of points in test case\n",
    "        self.points    = []                # points of curve\n",
    "\n",
    "    # read test case\n",
    "    def load_data(self):\n",
    "        with open (self.address, 'r') as f:\n",
    "            self.degree = int(f.readline())     \n",
    "            self.low, self.high = map(float, f.readline().split(\" \"))  \n",
    "            self.num_points = int(f.readline())  \n",
    "            self.points = [tuple(map(float, f.readline().split(\" \"))) for _ in range(self.num_points)]  # append the point to list of points  \n"
   ]
  },
  {
   "cell_type": "code",
   "execution_count": 11,
   "metadata": {},
   "outputs": [],
   "source": [
    "curve_test1 = Data(\"CurveFitting-Tests/CurveFitting_test1.txt\")\n",
    "curve_test1.load_data()"
   ]
  }
 ],
 "metadata": {
  "kernelspec": {
   "display_name": "Python 3",
   "language": "python",
   "name": "python3"
  },
  "language_info": {
   "codemirror_mode": {
    "name": "ipython",
    "version": 3
   },
   "file_extension": ".py",
   "mimetype": "text/x-python",
   "name": "python",
   "nbconvert_exporter": "python",
   "pygments_lexer": "ipython3",
   "version": "3.9.13"
  }
 },
 "nbformat": 4,
 "nbformat_minor": 2
}
