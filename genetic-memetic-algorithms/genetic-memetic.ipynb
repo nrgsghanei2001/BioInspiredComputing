{
 "cells": [
  {
   "cell_type": "code",
   "execution_count": 19,
   "metadata": {},
   "outputs": [],
   "source": [
    "import random\n",
    "import math\n",
    "import numpy as np"
   ]
  },
  {
   "cell_type": "code",
   "execution_count": 8,
   "metadata": {},
   "outputs": [],
   "source": [
    "class Data:\n",
    "\n",
    "    # initialize needed values\n",
    "    def __init__(self, data_address):\n",
    "        self.address    = data_address      # address of test file\n",
    "        self.degree     = 0                 # degree of polynomial\n",
    "        self.low        = 0                 # lower bound of coefs\n",
    "        self.high       = 0                 # upper bound of coefs\n",
    "        self.num_points = 0                 # number of points in test case\n",
    "        self.points     = []                # points of curve\n",
    "\n",
    "    # read test case\n",
    "    def load_data(self):\n",
    "        with open (self.address, 'r') as f:\n",
    "            self.degree         = int(f.readline())     \n",
    "            self.low, self.high = map(float, f.readline().split(\" \"))  \n",
    "            self.num_points     = int(f.readline())  \n",
    "            self.points         = [tuple(map(float, f.readline().split(\" \"))) for _ in range(self.num_points)]  # append the point to list of points  \n"
   ]
  },
  {
   "cell_type": "code",
   "execution_count": 31,
   "metadata": {},
   "outputs": [],
   "source": [
    "class Gene:\n",
    "\n",
    "    # initialize parameters\n",
    "    def __init__(self, degree, points, low, high):\n",
    "        self.gene = []\n",
    "        self.degree = degree\n",
    "        self.points = points\n",
    "        self.low = low\n",
    "        self.high = high\n",
    "        self.fitness = 0\n",
    "\n",
    "\n",
    "    # create random gene for first population\n",
    "    def initial_gene(self):\n",
    "        self.gene = [random.uniform(self.low, self.high) for _ in range(self.degree)]\n",
    "\n",
    "\n",
    "    # calculate fitness \n",
    "    def fitness_function(self):\n",
    "        # SRR = sigma_{i=0}{n} (pred-y)^2\n",
    "        self.fitness = sum((np.polyval(self.gene, point[0]) - point[1])**2 for point in self.points)\n",
    "        return self.fitness\n",
    "\n"
   ]
  },
  {
   "cell_type": "code",
   "execution_count": 42,
   "metadata": {},
   "outputs": [],
   "source": [
    "class Population:\n",
    "\n",
    "    # initialize population's parameters\n",
    "    def __init__(self, data, pop_size=100):\n",
    "        self.population_size             = pop_size\n",
    "        self.population                  = []\n",
    "        self.points                  = data.points\n",
    "        self.low, self.high, self.degree = data.low, data.high, data.degree\n",
    "\n",
    "    # generate first population randomly\n",
    "    def initialize_population(self):\n",
    "        for _ in range(self.population_size):\n",
    "            genei = Gene(self.degree, self.points, self.low, self.high)\n",
    "            genei.initial_gene()\n",
    "            self.population.append(genei)\n",
    "    \n",
    "\n",
    "    # selest parents from population for crossover using tornoment selection\n",
    "    def parent_selection(self, N=3):\n",
    "        # choose random N candidates to attend tornoment\n",
    "        father_candidates = [random.choice(self.population) for _ in range(N)]\n",
    "        mother_candidates = [random.choice(self.population) for _ in range(N)]\n",
    "\n",
    "        # choose the best one of N candidates to be a parent\n",
    "        # find candidates fitnesses\n",
    "        father_vals = [(father.fitness_function(), father) for father in father_candidates]\n",
    "        mother_vals = [(mother.fitness_function(), mother) for mother in mother_candidates]\n",
    "        # sort candidates\n",
    "        sorted_fathers = sorted(father_vals, key=lambda x: x[0])\n",
    "        sorted_mothers = sorted(mother_vals, key=lambda x: x[0])\n",
    "        # select parents with min fitness\n",
    "        best_father = sorted_fathers[0][1]\n",
    "        best_mother = sorted_mothers[0][1]\n",
    "        \n",
    "        return best_father, best_mother\n",
    "\n"
   ]
  },
  {
   "cell_type": "code",
   "execution_count": 49,
   "metadata": {},
   "outputs": [
    {
     "name": "stdout",
     "output_type": "stream",
     "text": [
      "[0.42946437503999113, 0.9331565283196681, -0.7714791450574239, -0.26951064115249523, 0.3428454459662127, -0.8030530509160099, -0.7407814375904429, -0.4766425813140085, 0.4107719881723715, -0.34276562968646807]\n"
     ]
    }
   ],
   "source": [
    "# load test case\n",
    "curve_test1 = Data(\"CurveFitting-Tests/CurveFitting_test1.txt\")\n",
    "curve_test1.load_data()\n",
    "\n",
    "# create first population\n",
    "population = Population(curve_test1, pop_size=10)\n",
    "population.initialize_population()\n",
    "\n",
    "# select 2 parents for crossover\n",
    "father, mother = population.parent_selection(N=4)\n",
    "print(father.gene)"
   ]
  }
 ],
 "metadata": {
  "kernelspec": {
   "display_name": "Python 3",
   "language": "python",
   "name": "python3"
  },
  "language_info": {
   "codemirror_mode": {
    "name": "ipython",
    "version": 3
   },
   "file_extension": ".py",
   "mimetype": "text/x-python",
   "name": "python",
   "nbconvert_exporter": "python",
   "pygments_lexer": "ipython3",
   "version": "3.9.13"
  }
 },
 "nbformat": 4,
 "nbformat_minor": 2
}
