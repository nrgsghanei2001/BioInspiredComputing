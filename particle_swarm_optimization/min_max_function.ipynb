{
 "cells": [
  {
   "cell_type": "markdown",
   "metadata": {},
   "source": [
    "Import needed libraries"
   ]
  },
  {
   "cell_type": "code",
   "execution_count": 1,
   "metadata": {},
   "outputs": [],
   "source": [
    "import numpy as np"
   ]
  },
  {
   "cell_type": "markdown",
   "metadata": {},
   "source": [
    "### Particle Sward Optimization Algorithm"
   ]
  },
  {
   "cell_type": "markdown",
   "metadata": {},
   "source": [
    "Each particle is an object of the class particle to access it's properties across the program"
   ]
  },
  {
   "cell_type": "markdown",
   "metadata": {},
   "source": [
    "### Problem 1:"
   ]
  },
  {
   "cell_type": "markdown",
   "metadata": {},
   "source": [
    "Objective Function of this code is to maximize below function:\n",
    "$$f(x, y) = \\left| sin(x)cos(x)exp(\\left|  1-\\frac{\\sqrt{x^{2}+y^{2}}}{\\pi}\\right|) \\right|$$"
   ]
  },
  {
   "cell_type": "code",
   "execution_count": 120,
   "metadata": {},
   "outputs": [],
   "source": [
    "class Particle:\n",
    "    def __init__(self, dim):   # initialize particles properties\n",
    "        self.position      = np.random.uniform(-10, 10, dim)   # each position is a 2D array (x, y)\n",
    "        self.velocity      = np.random.uniform(-1, 1, dim)\n",
    "        self.best_position = self.position       # save best result of each particle\n",
    "        self.best_value    = -np.inf\n",
    "\n",
    "    def objective_function(self):\n",
    "        val = np.abs(np.sin(self.position[0]) * np.cos(self.position[1]) * np.exp(np.abs(1 - ( (np.sqrt((self.position[0]**2)+(self.position[1]**2)))/(np.pi) ))))\n",
    "        return val \n"
   ]
  },
  {
   "cell_type": "markdown",
   "metadata": {},
   "source": [
    "updating positions and velocity:\n",
    "$$v_{k+1} = w\\times v_{k}+r_{1}\\times PBest+r_{2}\\times GBest$$\n",
    "$$P_{k+1} = P_{k}+v_{k+1}$$"
   ]
  },
  {
   "cell_type": "code",
   "execution_count": 121,
   "metadata": {},
   "outputs": [],
   "source": [
    "def pso_main(dim, num_particles, iterations):\n",
    "    swarm = [Particle(dim) for _ in range(num_particles)]   # create a sward with n particles\n",
    "    global_best_position = np.zeros(dim)   # save best global result\n",
    "    global_best_value = -np.inf\n",
    "\n",
    "    # run iterations\n",
    "    for _ in range(iterations):\n",
    "        for particle in swarm:\n",
    "            value = particle.objective_function()\n",
    "            if value > particle.best_value:\n",
    "                particle.best_value    = value\n",
    "                particle.best_position = particle.position\n",
    "            if value > global_best_value:\n",
    "                global_best_value = value\n",
    "                global_best_position = particle.position\n",
    "                print(global_best_value)\n",
    "\n",
    "        for particle in swarm:\n",
    "            w = 1  # Inertia weight\n",
    "            r1 = np.random.rand(dim)   # 2 random values for updating positions\n",
    "            r2 = np.random.rand(dim)\n",
    "\n",
    "            particle.velocity = (w * particle.velocity + r1 * (particle.best_position - particle.position) + r2 * (global_best_position - particle.position))\n",
    "            particle.position += particle.velocity\n",
    "\n",
    "            # bound the founded values to given values in the question\n",
    "            particle.position = np.clip(particle.position, -10, 10)\n",
    "\n",
    "    return global_best_position, global_best_value"
   ]
  },
  {
   "cell_type": "markdown",
   "metadata": {},
   "source": [
    "maximizing f(x, y)"
   ]
  },
  {
   "cell_type": "code",
   "execution_count": 141,
   "metadata": {},
   "outputs": [
    {
     "name": "stdout",
     "output_type": "stream",
     "text": [
      "4.323042356165198\n",
      "6.543184420836804\n",
      "7.258297130336548\n",
      "8.04693785240337\n",
      "9.468199566421362\n",
      "9.798954718893656\n",
      "13.917000673400745\n",
      "18.628004484686343\n",
      "19.010797311776386\n",
      "19.133424598808553\n",
      "19.141790285474485\n",
      "19.14933261647367\n",
      "19.195801070173\n",
      "19.20416069127705\n",
      "19.207904049206018\n",
      "Best position: [ 6.47723053 -9.44206961]\n",
      "Best value: 19.207904049206018\n"
     ]
    }
   ],
   "source": [
    "best_position, best_value = pso_main(2, 300, 7000)\n",
    "print(\"Best position:\", best_position)\n",
    "print(\"Best value:\", best_value)"
   ]
  },
  {
   "cell_type": "markdown",
   "metadata": {},
   "source": [
    "Each particle is an object of the class particle to access it's properties across the program"
   ]
  },
  {
   "cell_type": "markdown",
   "metadata": {},
   "source": [
    "### Problem 2:"
   ]
  },
  {
   "cell_type": "markdown",
   "metadata": {},
   "source": [
    "Objective Function of this code is to minimize below function:\n",
    "$$g(x, y) = \\frac{xsin(\\pi\\times cos(x)\\times tan(y))sin(\\frac{y}{x}))}{1+cos(\\frac{y}{x})}$$"
   ]
  },
  {
   "cell_type": "code",
   "execution_count": 217,
   "metadata": {},
   "outputs": [],
   "source": [
    "class Particle2:\n",
    "    def __init__(self, dim):\n",
    "        self.position = np.random.uniform(-100, 100, dim)\n",
    "        self.velocity = np.random.uniform(-1, 1, dim)\n",
    "        self.best_position = self.position\n",
    "        self.best_value = np.inf\n",
    "        self.eps = 1e-10\n",
    "\n",
    "    def objective_function(self):\n",
    "        val = (self.position[0] * np.sin(np.pi * np.cos(self.position[0]) * np.tan(self.position[1])) * np.sin((self.position[1]) / (self.position[0]+self.eps))) / (self.eps + 1 + np.cos((self.position[1]) / (self.position[0]+self.eps)))\n",
    "        return val \n"
   ]
  },
  {
   "cell_type": "code",
   "execution_count": 210,
   "metadata": {},
   "outputs": [],
   "source": [
    "def pso_main2(dim, num_particles, iterations):\n",
    "    swarm = [Particle2(dim) for _ in range(num_particles)]   # create a sward with n particles\n",
    "    global_best_position = np.zeros(dim)   # save best global result\n",
    "    global_best_value = np.inf\n",
    "\n",
    "    # run iterations\n",
    "    for _ in range(iterations):\n",
    "        for particle in swarm:\n",
    "            value = particle.objective_function()\n",
    "            if value < particle.best_value:\n",
    "                particle.best_value    = value\n",
    "                particle.best_position = particle.position\n",
    "            if value < global_best_value:\n",
    "                global_best_value = value\n",
    "                global_best_position = particle.position\n",
    "                print(global_best_value)\n",
    "\n",
    "        for particle in swarm:\n",
    "            w = 1  # Inertia weight\n",
    "            r1 = np.random.rand(dim)   # 2 random values for updating positions\n",
    "            r2 = np.random.rand(dim)\n",
    "\n",
    "            particle.velocity = (w * particle.velocity + r1 * (particle.best_position - particle.position) + r2 * (global_best_position - particle.position))\n",
    "            particle.position += particle.velocity\n",
    "\n",
    "            # bound the founded values to given values in the question\n",
    "            particle.position = np.clip(particle.position, -100, 100)\n",
    "\n",
    "    return global_best_position, global_best_value"
   ]
  },
  {
   "cell_type": "markdown",
   "metadata": {},
   "source": [
    "minimizing g(x, y)"
   ]
  },
  {
   "cell_type": "code",
   "execution_count": 220,
   "metadata": {},
   "outputs": [
    {
     "name": "stdout",
     "output_type": "stream",
     "text": [
      "32.080896941234585\n",
      "5.051630245837402\n",
      "-5.272423323586466\n",
      "-19.912573543820624\n",
      "-24.058637049076154\n",
      "-52.2195770308932\n",
      "-75.74928072349756\n",
      "-123.41214212247154\n",
      "-181.28741130038463\n",
      "-1239.553705517029\n",
      "-4542.057125992448\n",
      "-4870.300867875285\n",
      "-15773.857349769358\n",
      "-47497.99839845164\n",
      "-47604.21561573563\n",
      "-95472.94203664051\n",
      "-112590.81957732428\n",
      "-229952.9568435154\n",
      "-1470355.8365532462\n",
      "-2185426.4688084736\n",
      "Best position: [3.6337668e+01 8.1739742e+21]\n",
      "Best value: -2185426.4688084736\n"
     ]
    }
   ],
   "source": [
    "best_position, best_value = pso_main2(2, 100, 5000)\n",
    "print(\"Best position:\", best_position)\n",
    "print(\"Best value:\", best_value)"
   ]
  },
  {
   "cell_type": "markdown",
   "metadata": {},
   "source": [
    "### Problem 3: Quadratic Assignment"
   ]
  },
  {
   "cell_type": "markdown",
   "metadata": {},
   "source": [
    "Read QAP testcases"
   ]
  },
  {
   "cell_type": "code",
   "execution_count": 223,
   "metadata": {},
   "outputs": [],
   "source": [
    "def read_data(address):\n",
    "    with open (address, 'r') as f:\n",
    "        # read n\n",
    "        n = int(f.readline().strip())\n",
    "        f.readline()\n",
    "        D = []\n",
    "\n",
    "        # read distance matrix\n",
    "        for _ in range(n):\n",
    "            rowint = []\n",
    "            row = f.readline().strip()\n",
    "            num = \"\"\n",
    "            for c in row:\n",
    "                if c != \" \":\n",
    "                    num += c\n",
    "                elif num == \"\":\n",
    "                    continue\n",
    "                else:\n",
    "                    rowint.append(int(num))\n",
    "                    num = \"\"\n",
    "            rowint.append(int(num))\n",
    "            D.append(rowint)\n",
    "\n",
    "        f.readline()\n",
    "        F = []\n",
    "        # read flow matrix\n",
    "        for _ in range(n):\n",
    "            rowint = []\n",
    "            row = f.readline().strip()\n",
    "            num = \"\"\n",
    "            for c in row:\n",
    "                if c != \" \":\n",
    "                    num += c\n",
    "                elif num == \"\":\n",
    "                    continue\n",
    "                else:\n",
    "                    rowint.append(int(num))\n",
    "                    num = \"\"\n",
    "            rowint.append(int(num))\n",
    "            F.append(rowint)\n",
    "\n",
    "    return n, D, F"
   ]
  },
  {
   "cell_type": "code",
   "execution_count": 221,
   "metadata": {},
   "outputs": [],
   "source": [
    "class Particle3:\n",
    "    def __init__(self, perm):\n",
    "        self.permutation = perm            # initial permutation\n",
    "        self.velocity = np.zeros_like(perm)\n",
    "        self.best_permutation = perm\n",
    "        self.best_cost = float('inf')\n",
    "\n",
    "    def objective_function(self, F, D):       # cost function \n",
    "        n = len(self.permutation)\n",
    "        cost = 0\n",
    "        for i in range(n):\n",
    "            for j in range(n):\n",
    "                cost += D[i][j] * F[self.permutation[i]][self.permutation[j]]\n",
    "        return cost\n"
   ]
  },
  {
   "cell_type": "code",
   "execution_count": 265,
   "metadata": {},
   "outputs": [],
   "source": [
    "def pso_qap(D, F, num_particles, iterations):\n",
    "    swarm = [Particle3(np.random.permutation(len(F))) for _ in range(num_particles)]\n",
    "    global_best_permutation = np.zeros(len(F), dtype=int)\n",
    "    global_best_cost = float('inf')\n",
    "   \n",
    "\n",
    "    for _ in range(iterations):\n",
    "        for particle in swarm:\n",
    "            cost = particle.objective_function(F, D)\n",
    "            if cost < particle.best_cost:\n",
    "                particle.best_cost = cost\n",
    "                particle.best_permutation = particle.permutation.copy()\n",
    "            if cost < global_best_cost:\n",
    "                global_best_cost = cost\n",
    "                global_best_permutation = particle.permutation.copy()\n",
    "\n",
    "        for particle in swarm:\n",
    "            w =1\n",
    "            r1 = np.random.rand()\n",
    "            r2 = np.random.rand()\n",
    "\n",
    "            # update velocities and permutations\n",
    "            particle.velocity = (w * particle.velocity) + 2 * r1 * (particle.best_permutation - particle.permutation) + 2 * r2 * (global_best_permutation - particle.permutation)\n",
    "            particle.permutation = np.argsort(np.argsort(particle.permutation + particle.velocity))  # apply sorting to have valid permutations\n",
    "\n",
    "    return global_best_cost"
   ]
  },
  {
   "cell_type": "code",
   "execution_count": 266,
   "metadata": {},
   "outputs": [
    {
     "data": {
      "text/plain": [
       "13116"
      ]
     },
     "execution_count": 266,
     "metadata": {},
     "output_type": "execute_result"
    }
   ],
   "source": [
    "n, D, F = read_data(\"testcases/chr12a.dat\")\n",
    "initial_state = [i for i in range(n)]\n",
    "pso_qap(D, F, 200, 15000)"
   ]
  }
 ],
 "metadata": {
  "kernelspec": {
   "display_name": "Python 3",
   "language": "python",
   "name": "python3"
  },
  "language_info": {
   "codemirror_mode": {
    "name": "ipython",
    "version": 3
   },
   "file_extension": ".py",
   "mimetype": "text/x-python",
   "name": "python",
   "nbconvert_exporter": "python",
   "pygments_lexer": "ipython3",
   "version": "3.9.13"
  }
 },
 "nbformat": 4,
 "nbformat_minor": 2
}
