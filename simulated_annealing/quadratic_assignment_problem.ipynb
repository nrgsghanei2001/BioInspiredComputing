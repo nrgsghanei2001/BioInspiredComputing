{
 "cells": [
  {
   "cell_type": "markdown",
   "metadata": {},
   "source": [
    "Import needed libraries"
   ]
  },
  {
   "cell_type": "code",
   "execution_count": 2,
   "metadata": {},
   "outputs": [],
   "source": [
    "import random\n",
    "import numpy as np"
   ]
  },
  {
   "cell_type": "markdown",
   "metadata": {},
   "source": [
    "### Data Preprocessing\n",
    "\n",
    "This function gets an address which belongs to testcase and reads it and creates flow and distance matrices"
   ]
  },
  {
   "cell_type": "code",
   "execution_count": 3,
   "metadata": {},
   "outputs": [],
   "source": [
    "def read_data(address):\n",
    "    with open (address, 'r') as f:\n",
    "        # read n\n",
    "        n = int(f.readline().strip())\n",
    "        f.readline()\n",
    "        D = []\n",
    "\n",
    "        # read distance matrix\n",
    "        for _ in range(n):\n",
    "            rowint = []\n",
    "            row = f.readline().strip()\n",
    "            num = \"\"\n",
    "            for c in row:\n",
    "                if c != \" \":\n",
    "                    num += c\n",
    "                elif num == \"\":\n",
    "                    continue\n",
    "                else:\n",
    "                    rowint.append(int(num))\n",
    "                    num = \"\"\n",
    "            rowint.append(int(num))\n",
    "            D.append(rowint)\n",
    "\n",
    "        f.readline()\n",
    "        F = []\n",
    "        # read flow matrix\n",
    "        for _ in range(n):\n",
    "            rowint = []\n",
    "            row = f.readline().strip()\n",
    "            num = \"\"\n",
    "            for c in row:\n",
    "                if c != \" \":\n",
    "                    num += c\n",
    "                elif num == \"\":\n",
    "                    continue\n",
    "                else:\n",
    "                    rowint.append(int(num))\n",
    "                    num = \"\"\n",
    "            rowint.append(int(num))\n",
    "            F.append(rowint)\n",
    "\n",
    "    return n, D, F"
   ]
  },
  {
   "cell_type": "markdown",
   "metadata": {},
   "source": [
    "### Simulated Annealing Algorithm"
   ]
  },
  {
   "cell_type": "markdown",
   "metadata": {},
   "source": [
    "This Function evaluates the goodness of achieved results based on following equation\n",
    "$$\\phi(\\pi)=\\sum_{i=1}^{n}\\sum_{j=1}^{n}d_{ij}f_{\\pi_{i}\\pi_{j}}$$"
   ]
  },
  {
   "cell_type": "code",
   "execution_count": 4,
   "metadata": {},
   "outputs": [],
   "source": [
    "def evaluation_function(state, D, F):\n",
    "    n = len(state)\n",
    "    cost = 0\n",
    "    for i in range(n):\n",
    "        for j in range(n):\n",
    "            cost += D[i][j] * F[state[i]][state[j]]\n",
    "    return cost"
   ]
  },
  {
   "cell_type": "markdown",
   "metadata": {},
   "source": [
    "This function finds 3 neighbors for given state by swapping 2 random indexes and then chooses the best one of them and returns it"
   ]
  },
  {
   "cell_type": "code",
   "execution_count": 5,
   "metadata": {},
   "outputs": [],
   "source": [
    "def find_neighbor(state, D, F):  \n",
    "    len_cuts = len(state)\n",
    "    s1 = state.copy()\n",
    "    s2 = state.copy()\n",
    "    s3 = state.copy()\n",
    "\n",
    "    i = random.randint(0, len_cuts-1)\n",
    "    j = random.randint(0, len_cuts-1)\n",
    "    i1 = random.randint(0, len_cuts-1)\n",
    "    j1 = random.randint(0, len_cuts-1)\n",
    "    i2 = random.randint(0, len_cuts-1)\n",
    "    j2 = random.randint(0, len_cuts-1)\n",
    "\n",
    "    s1[i], s1[j] = s1[j], s1[i]\n",
    "    s2[i1], s2[j1] = s2[j1], s2[i1]\n",
    "    s3[i2], s3[j2] = s3[j2], s3[i2]\n",
    "\n",
    "    c1 = evaluation_function(s1, D, F)\n",
    "    c2 = evaluation_function(s2, D, F)\n",
    "    c3 = evaluation_function(s3, D, F)\n",
    "\n",
    "    if c1 > c2 :\n",
    "      if c1 > c3 :\n",
    "        return s1\n",
    "      else:\n",
    "        return s3\n",
    "    return s2\n"
   ]
  },
  {
   "cell_type": "markdown",
   "metadata": {},
   "source": [
    "This function chooses the state that should be replaced by surrent state. If new state has a better cost, repleces it, else it replace new state with some probability: \n",
    "$$\\theta\\gt exp(\\frac{-\\Delta}{T\\times \\beta})$$"
   ]
  },
  {
   "cell_type": "code",
   "execution_count": 45,
   "metadata": {},
   "outputs": [],
   "source": [
    "def acceptance_probability(current_value, new_value, temprature, beta=400):\n",
    "    delta = (new_value - current_value)/current_value\n",
    "\n",
    "    if delta < 0:           # if the value of new state is better than current state, exchange them\n",
    "        return 1\n",
    "\n",
    "    r = np.random.rand()     # else: generate a random number between 0, 1\n",
    "    p = np.exp(-delta/temprature*beta)  # calculate acceptance probability\n",
    "    \n",
    "    if (p > r):        # accept new state with calculated probability \n",
    "        return 2 \n",
    "    return 0\n"
   ]
  },
  {
   "cell_type": "markdown",
   "metadata": {},
   "source": [
    "This function decreases temprature\n",
    "$$T=T\\times \\alpha$$"
   ]
  },
  {
   "cell_type": "code",
   "execution_count": 12,
   "metadata": {},
   "outputs": [],
   "source": [
    "def cooling_function(current_temp):\n",
    "    alpha = 0.99\n",
    "    new_temp = current_temp * alpha\n",
    "    return new_temp"
   ]
  },
  {
   "cell_type": "markdown",
   "metadata": {},
   "source": [
    "simulated annealing's main algorithm"
   ]
  },
  {
   "cell_type": "code",
   "execution_count": 34,
   "metadata": {},
   "outputs": [],
   "source": [
    "def simulated_annealing(permuterm, temprature, TL, iteration, D, F, expected):\n",
    "    current_state = permuterm.copy()\n",
    "    random.shuffle(current_state)          # generate a random initial state\n",
    "    current_value = evaluation_function(current_state, D, F)           # find the value of current state\n",
    "    best_result = current_state[:]         # save the best result \n",
    "    best_cost = np.inf     # save the best cost\n",
    "    num_iteration = 0\n",
    "\n",
    "    # search for result until the temprature reaches the temperature_low or we achieve the expected result\n",
    "    while temprature > TL and best_cost > expected:\n",
    "        num_iteration = 0\n",
    "        while num_iteration<iteration:    # for each temperature, search for result n times\n",
    "            num_iteration += 1\n",
    "            neighbor       = find_neighbor(current_state, D, F)             # search for a neighbor and find its cost\n",
    "            neighbor_value = evaluation_function(neighbor, D, F)\n",
    "\n",
    "            p = acceptance_probability(current_value, neighbor_value, temprature)  # the result clarifies that which state should be the current state\n",
    "            if p == 1:   # p=1 : exchange with new state, new state has better fitness\n",
    "                current_state = neighbor.copy()\n",
    "                current_value = neighbor_value\n",
    "                best_result = neighbor[:]\n",
    "                best_cost =  current_value\n",
    "\n",
    "            elif p == 2:     # exchange with new state, new state is worse than current state\n",
    "                current_state = neighbor.copy()\n",
    "            # p=0, don't exchange states\n",
    "            \n",
    "\n",
    "        temprature = cooling_function(temprature)   # lower the temprature\n",
    "\n",
    "    return best_cost, best_result\n"
   ]
  },
  {
   "cell_type": "markdown",
   "metadata": {},
   "source": [
    "Test chr12a\n",
    "\n",
    "The best achieved result is 9552"
   ]
  },
  {
   "cell_type": "code",
   "execution_count": 36,
   "metadata": {},
   "outputs": [
    {
     "name": "stdout",
     "output_type": "stream",
     "text": [
      "Best result: [6, 4, 11, 1, 0, 2, 8, 10, 9, 5, 7, 3]\n",
      "Best cost: 9552\n"
     ]
    }
   ],
   "source": [
    "n, D, F = read_data(\"testcases/chr12a.dat\")\n",
    "initial_state = [i for i in range(n)]\n",
    "result1c, result1 = simulated_annealing(initial_state, 1, 0.01, 100000, D, F, 9560)\n",
    "print(\"Best result: \", result1)\n",
    "print(\"Best cost: \", result1c)"
   ]
  },
  {
   "cell_type": "markdown",
   "metadata": {},
   "source": [
    "Test esc32a"
   ]
  },
  {
   "cell_type": "code",
   "execution_count": 37,
   "metadata": {},
   "outputs": [
    {
     "name": "stdout",
     "output_type": "stream",
     "text": [
      "Best result:  [8, 10, 9, 5, 12, 4, 11, 30, 13, 17, 16, 23, 0, 14, 15, 31, 20, 7, 18, 29, 27, 6, 26, 19, 28, 21, 22, 24, 2, 1, 3, 25]\n",
      "Best cost:  168\n"
     ]
    }
   ],
   "source": [
    "n, D, F = read_data(\"testcases/esc32a.dat\")\n",
    "initial_state = [i for i in range(n)]\n",
    "result2c, result2 = simulated_annealing(initial_state, 1, 0.01, 1000, D, F, 170)\n",
    "print(\"Best result: \", result2)\n",
    "print(\"Best cost: \", result2c)"
   ]
  },
  {
   "cell_type": "markdown",
   "metadata": {},
   "source": [
    "Test nug20"
   ]
  },
  {
   "cell_type": "code",
   "execution_count": 43,
   "metadata": {},
   "outputs": [
    {
     "name": "stdout",
     "output_type": "stream",
     "text": [
      "Best result:  [8, 2, 9, 13, 17, 15, 10, 11, 1, 3, 12, 7, 19, 14, 18, 5, 0, 6, 4, 16]\n",
      "Best cost:  2570\n"
     ]
    }
   ],
   "source": [
    "n, D, F = read_data(\"testcases/nug20.dat\")\n",
    "initial_state = [i for i in range(n)]\n",
    "result3c, result3 = simulated_annealing(initial_state, 1, 0.01, 2000, D, F, 2590)\n",
    "print(\"Best result: \", result3)\n",
    "print(\"Best cost: \", result3c)"
   ]
  },
  {
   "cell_type": "markdown",
   "metadata": {},
   "source": [
    "Test tai30a"
   ]
  },
  {
   "cell_type": "code",
   "execution_count": 47,
   "metadata": {},
   "outputs": [
    {
     "name": "stdout",
     "output_type": "stream",
     "text": [
      "Best result:  [14, 29, 17, 25, 23, 28, 2, 19, 10, 21, 20, 6, 0, 9, 4, 27, 1, 15, 16, 5, 8, 3, 26, 12, 7, 13, 22, 11, 24, 18]\n",
      "Best cost:  1890518\n"
     ]
    }
   ],
   "source": [
    "n, D, F = read_data(\"testcases/tai30a.dat\")\n",
    "initial_state = [i for i in range(n)]\n",
    "result4c, result4 = simulated_annealing(initial_state, 1, 0.01, 1000, D, F, 1890900)\n",
    "print(\"Best result: \", result4)\n",
    "print(\"Best cost: \", result4c)"
   ]
  },
  {
   "cell_type": "markdown",
   "metadata": {},
   "source": [
    "Test lipa50a"
   ]
  },
  {
   "cell_type": "code",
   "execution_count": 52,
   "metadata": {},
   "outputs": [
    {
     "name": "stdout",
     "output_type": "stream",
     "text": [
      "Best result:  [14, 6, 30, 44, 0, 12, 10, 37, 22, 18, 13, 8, 28, 48, 47, 32, 49, 1, 43, 5, 4, 31, 41, 15, 23, 45, 2, 9, 20, 17, 46, 7, 40, 36, 21, 38, 11, 3, 29, 26, 27, 24, 39, 34, 35, 33, 42, 16, 19, 25]\n",
      "Best cost:  62990\n"
     ]
    }
   ],
   "source": [
    "n, D, F = read_data(\"testcases/lipa50a.dat\")\n",
    "initial_state = [i for i in range(n)]\n",
    "result5c, result5 = simulated_annealing(initial_state, 1, 0.01, 1000, D, F, 63050)\n",
    "print(\"Best result: \", result5)\n",
    "print(\"Best cost: \", result5c)"
   ]
  }
 ],
 "metadata": {
  "kernelspec": {
   "display_name": "Python 3",
   "language": "python",
   "name": "python3"
  },
  "language_info": {
   "codemirror_mode": {
    "name": "ipython",
    "version": 3
   },
   "file_extension": ".py",
   "mimetype": "text/x-python",
   "name": "python",
   "nbconvert_exporter": "python",
   "pygments_lexer": "ipython3",
   "version": "3.9.13"
  }
 },
 "nbformat": 4,
 "nbformat_minor": 2
}
