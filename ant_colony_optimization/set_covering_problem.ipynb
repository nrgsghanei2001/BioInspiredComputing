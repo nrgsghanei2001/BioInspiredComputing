{
 "cells": [
  {
   "cell_type": "code",
   "execution_count": 26,
   "metadata": {},
   "outputs": [],
   "source": [
    "import numpy as np\n",
    "import matplotlib.pyplot as plt"
   ]
  },
  {
   "cell_type": "markdown",
   "metadata": {},
   "source": [
    "### Algorithm Definition\n",
    "\n",
    "representation matrix:  A[m][n] , $$a_{ij}\\in \\left\\{ 0 , 1\\right\\}$$ $$a_{ij} = 1 , element_{i}\\in set_{j}$$\n",
    "\n",
    "m = number of elements in universal set, n = number of sets\n",
    "\n",
    "selection: $$p_{j}^{k} = \\frac{\\tau_{ij}^{\\alpha}\\cdot \\eta_{ij}^{\\beta}}{\\sum_{}^{}\\tau_{il}^{\\alpha}\\cdot \\eta_{il}^{\\beta}}, j\\notin S(k)$$\n",
    "\n",
    "cost: $$cost_{S} =\\sum_{j=1}^{n} cost_{j}*S_{j}$$\n",
    "heuristic: $$\\eta_{j}= \\frac{card_{j}}{cost_{j}}$$\n",
    "\n",
    "globa pheromone update: $$\\Delta\\tau_{j} = \\frac{Q}{card(S_{best})}$$ $$\\tau_{j} = max(\\tau_{min}, min(\\tau_{j}+\\Delta\\tau_{j}, \\tau_{max})), j\\in S_{best}$$\n",
    "\n",
    "evaporation:\n",
    "$$\\tau_{j} = (1-\\rho)\\tau_{j}$$"
   ]
  },
  {
   "cell_type": "markdown",
   "metadata": {},
   "source": [
    "I have defined two classes, Colony and Ant. Ant objects have access to the properties of colonies. Shared attributes, such as the pheromone vector, representation matrix, and cost vector, are stored in the Colony class, while certain private methods, such as local pheromone adjustments, are contained within the Ant class. I followed the methodology outlined in the research paper(Ant Colonies for the Set Covering Problem) for solving this problem, with the exception of updating pheromone values, which is implemented using the Min-Max Ant System.\n",
    "\n",
    "After obtaining results, I employed the \"delete redundant\" method to determine if a better solution exists beyond the best solution found. Parameter tuning, carried out through multiple program executions, proved to be a significant challenge in this project. Running the program hundreds of times was necessary to achieve satisfactory results."
   ]
  },
  {
   "cell_type": "markdown",
   "metadata": {},
   "source": [
    "### Colony and Ant Objects"
   ]
  },
  {
   "cell_type": "code",
   "execution_count": 23,
   "metadata": {},
   "outputs": [],
   "source": [
    "class Colony:\n",
    "\n",
    "    def __init__(self, alpha=1, beta=3, evaporation_rate=0.1, min_pheromone=0.1, max_pheromone=4, Q=1000):\n",
    "        self.num_sets = 0                            # number of sets\n",
    "        self.num_elements = 0                        # number of elements\n",
    "        self.pheromone_0 = 0                         # initial pheromone, the set to max / number of sets\n",
    "        self.alpha = alpha                           # importance of pheromone                  \n",
    "        self.beta = beta                             # importance of heuristic\n",
    "        self.evaporation_rate = evaporation_rate     # evaporation rate\n",
    "        self.min_pheromone = min_pheromone           # min valid value for pheromone\n",
    "        self.max_pheromone = max_pheromone           # max valid value for pheromone\n",
    "        self.Q = Q                                   # global pheromone update value\n",
    "        self.representation_matrix = []              # save occurrence of elements in each set\n",
    "        self.cost_vector = []                        # save cost of a set\n",
    "        self.pheromone_vector = []                   # save pheromone value on each set\n",
    "        self.all_sets = []                           # save the elements in each set\n",
    "\n",
    "\n",
    "    # read the test case file and initialize parameters\n",
    "    def initialize_problem(self, address):\n",
    "\n",
    "        with open(address, 'r') as f:\n",
    "            self.num_elements, self.num_sets = map(int, f.readline().strip().split(\" \"))\n",
    "            self.pheromone_0 = self.max_pheromone / self.num_sets     # initialize initial value for pheromone\n",
    "            self.representation_matrix = np.zeros((self.num_elements, self.num_sets), dtype=int)\n",
    "            self.pheromone_vector = [self.pheromone_0 for _ in range(self.num_sets)]      # pheromone initialization\n",
    "        \n",
    "            num_costs = 0\n",
    "            while num_costs < self.num_sets :         # get the cost of each column\n",
    "                costs = list(map(int, f.readline().strip().split(\" \")))\n",
    "                num_costs += len(costs)\n",
    "                self.cost_vector.extend(costs)\n",
    "\n",
    "            num_rows = 0\n",
    "            while num_rows < self.num_elements:      # fill the representation matrix\n",
    "                cover_num = int(f.readline().strip())\n",
    "                v = 0\n",
    "                while v < cover_num:\n",
    "                    covers = list(map(int, f.readline().strip().split(\" \")))\n",
    "                    for e in covers:\n",
    "                        self.representation_matrix[num_rows][e-1] = 1\n",
    "                    v += len(covers)\n",
    "                num_rows += 1 \n",
    "\n",
    "            for i in range(self.num_sets):   # find the elements that are in each set\n",
    "                seti = [e for e in range(self.num_elements) if self.representation_matrix[e][i]]\n",
    "                self.all_sets.append(seti)\n",
    "\n",
    "    # update pheromone vector based on the result that have been found for best ant\n",
    "    def globa_pheromone_update(self, best_solution):\n",
    "\n",
    "        # amount of pheromone to deposit\n",
    "        delta_tau = self.Q / sum(best_solution)\n",
    "\n",
    "        # deposit pheromone on sets which are in the best solution\n",
    "        for i, s in enumerate(best_solution):\n",
    "            if s:\n",
    "                self.pheromone_vector[i] += delta_tau\n",
    "                \n",
    "        # evaporate pheromone on all sets\n",
    "        for i in range(len(self.pheromone_vector)):\n",
    "            self.pheromone_vector[i] *= (1 - self.evaporation_rate)\n",
    "\n",
    "            # fix interval of pheromone\n",
    "            self.pheromone_vector[i] = max(min(self.pheromone_vector[i], self.max_pheromone), self.min_pheromone)\n",
    "\n",
    "        \n",
    "    \n",
    "    def delete_redundants(self, solution, cost):\n",
    "        included, icosts = [], []\n",
    "        for i in range(self.num_sets):  # find set elements\n",
    "            if solution[i]:\n",
    "                included.append(self.all_sets[i])\n",
    "                icosts.append(self.cost_vector[i])\n",
    "\n",
    "        i = len(included) - 1\n",
    "        new_set = []\n",
    "        new_cost = cost\n",
    "        while i >= 0:    # remove set a if set a is subset of set b and cost of a i greather than b\n",
    "            j = 0\n",
    "            flag = False\n",
    "            while(j < i):\n",
    "                if set(included[i]).issubset(set(included[j])):\n",
    "                    flag = True\n",
    "                j += 1\n",
    "\n",
    "            if not flag:\n",
    "                new_set.append(included[i])\n",
    "            else:\n",
    "                new_cost -= self.cost_vector[i]\n",
    "            \n",
    "            i -= 1\n",
    "\n",
    "        return new_cost\n",
    "\n",
    "        \n",
    "        "
   ]
  },
  {
   "cell_type": "code",
   "execution_count": 4,
   "metadata": {},
   "outputs": [],
   "source": [
    "class Ant:\n",
    "\n",
    "    def __init__(self, colony):\n",
    "        self.colony   = colony           # the object of colony which the ant, belongs to\n",
    "        self.solution = [0 for _ in range(self.colony.num_sets)]    # save the latest solution of the ant \n",
    "        self.local_pheromone = self.colony.pheromone_vector.copy()   # pheromone vector initialization\n",
    "        self.cost = np.inf   # cost of latest solution of the ant\n",
    "\n",
    "\n",
    "    # recall it each time to construct a solution or a covering set\n",
    "    def solution_construction(self, new_iter=False):\n",
    "        self.solution = [0 for _ in range(self.colony.num_sets)]    # reinitialize solution\n",
    "        if new_iter:    # reset the phromone values in each iteration\n",
    "            self.local_pheromone = self.colony.pheromone_vector.copy()\n",
    "\n",
    "        uncovered = [i for i in range(self.colony.num_elements)]    # elements that have not been covered yet\n",
    "        while uncovered:   # do until there is uncovered elements\n",
    "            # selection probability calculation\n",
    "            selection_probabilities = [0 for _ in range(self.colony.num_sets)]   # find the probability of choosing a set to be in the covering set\n",
    "            for i in range(self.colony.num_sets):\n",
    "                seti = self.colony.all_sets[i]\n",
    "        \n",
    "                # if set i covers no uncovered elements, skip it\n",
    "                if not set(seti).intersection(set(uncovered)):\n",
    "                    continue\n",
    "                \n",
    "                newly_covered = len(list(set(seti).intersection(set(uncovered))))   # the number of elements that this chosen set covers, which was not covered before\n",
    "                heuristic = newly_covered / self.colony.cost_vector[i]  # heuristic = card(i)/cost(i)\n",
    "                selection_probabilities[i] = (self.local_pheromone[i] ** self.colony.alpha) * (heuristic ** self.colony.beta)  # find the probability of choosing this set\n",
    "\n",
    "            # normalize probabilities\n",
    "            selection_probabilities /= np.sum(selection_probabilities)\n",
    "\n",
    "            # choose the next set to cover\n",
    "            selected_set = np.random.choice(np.arange(self.colony.num_sets), p=selection_probabilities)\n",
    "\n",
    "            # update ant's solution and uncovered elements\n",
    "            self.solution[selected_set] = 1\n",
    "            selectes_set_el = self.colony.all_sets[selected_set]  # find the elements in selected set\n",
    "            uncovered = set(uncovered) - set(selectes_set_el)\n",
    "\n",
    "\n",
    "    # update pheromone value for each ant individually\n",
    "    # just do evaporation in updating local pheromone to make exploration more\n",
    "    def local_pheromone_update(self):\n",
    "\n",
    "        for i, s in enumerate(self.solution):\n",
    "            # update pheromone for each element in the selected set\n",
    "            if s:\n",
    "                # evaporation\n",
    "                self.local_pheromone[i] *= (1 - self.colony.evaporation_rate)\n",
    "\n",
    "                # fix interval of pheromone\n",
    "                self.local_pheromone[i] = max(self.local_pheromone[i], self.colony.min_pheromone)\n",
    "\n",
    "    # evaluate current result\n",
    "    def calculate_cost(self, solution):\n",
    "        self.cost = 0\n",
    "        for i in range(len(solution)):\n",
    "            if solution[i]:\n",
    "                self.cost += self.colony.cost_vector[i]\n",
    "\n",
    "        return self.cost\n",
    "\n"
   ]
  },
  {
   "cell_type": "markdown",
   "metadata": {},
   "source": [
    "Testing"
   ]
  },
  {
   "cell_type": "code",
   "execution_count": 12,
   "metadata": {},
   "outputs": [],
   "source": [
    "def test(testcase, run=10, num_ants=10, num_iterations=10, Q=1000):\n",
    "    test_results = []\n",
    "    for k in range(run):\n",
    "        scp = Colony(Q=Q)\n",
    "        scp.initialize_problem(testcase)\n",
    "\n",
    "        all_ants = [Ant(scp) for _ in range(num_ants)]    # create n ants in each run\n",
    "        best_cost = np.inf   # save the best cost of all iterations in 1 run\n",
    "        best_ant = None      # save the index of best ant in ants list\n",
    "        best_solution = []   # save the best solution of all iterations\n",
    "        flag = False         # change the value of best solution\n",
    "\n",
    "        # in each run : n iterations\n",
    "        for i in range(num_iterations):\n",
    "            # construct a solution for each ant in each iteration\n",
    "            for j in range(num_ants):   \n",
    "                if i == 0:    # in the first iteration, reset the local pheromone value to global pheromone\n",
    "                    all_ants[j].solution_construction(new_iter=True)\n",
    "                else:\n",
    "                    all_ants[j].solution_construction()\n",
    "\n",
    "                # update local pheromone of the ant based on current solution and find the cost of it\n",
    "                all_ants[j].local_pheromone_update()\n",
    "                cost = all_ants[j].calculate_cost(all_ants[j].solution)\n",
    "\n",
    "                if cost < best_cost:      # update the best ant in all iterations\n",
    "                    best_ant = j\n",
    "                    best_cost = cost\n",
    "                    flag = True\n",
    "\n",
    "            # check if in new iteration a better solution was found\n",
    "            if flag:\n",
    "                best_solution = all_ants[best_ant].solution.copy()\n",
    "                best_cost = all_ants[best_ant].cost\n",
    "                flag = False\n",
    "                scp.globa_pheromone_update(best_solution)    # update the global pheromone for the new best ant\n",
    "\n",
    "        # save the result of current run\n",
    "        vc = scp.delete_redundants(best_solution, best_cost)   # remove redundant sets\n",
    "        test_results.append(vc)\n",
    "\n",
    "    return test_results\n",
    "    "
   ]
  },
  {
   "cell_type": "markdown",
   "metadata": {},
   "source": [
    "plot results"
   ]
  },
  {
   "cell_type": "code",
   "execution_count": 36,
   "metadata": {},
   "outputs": [],
   "source": [
    "def plot_res(x, y, expected):\n",
    "    plt.plot(y, x)\n",
    "    ex = [expected for _ in range(len(y))]\n",
    "    plt.plot(y, ex, linestyle=\"dashed\")\n",
    "    plt.xlabel(\"iteration\")\n",
    "    plt.ylabel(\"cost\")\n",
    "    plt.show()"
   ]
  },
  {
   "cell_type": "markdown",
   "metadata": {},
   "source": [
    "### Main program"
   ]
  },
  {
   "cell_type": "code",
   "execution_count": 6,
   "metadata": {},
   "outputs": [],
   "source": [
    "os.chdir(\"testcases/\")\n",
    "testcases = os.listdir()"
   ]
  },
  {
   "cell_type": "code",
   "execution_count": 28,
   "metadata": {},
   "outputs": [],
   "source": [
    "iters =  [i for i in range(1, 11)]"
   ]
  },
  {
   "cell_type": "markdown",
   "metadata": {},
   "source": [
    "Test SCP41"
   ]
  },
  {
   "cell_type": "code",
   "execution_count": 9,
   "metadata": {},
   "outputs": [],
   "source": [
    "resultscp41 = test(testcases[0], num_iterations=200, run=10, Q=1000, num_ants=30)"
   ]
  },
  {
   "cell_type": "code",
   "execution_count": 37,
   "metadata": {},
   "outputs": [
    {
     "data": {
      "image/png": "[encoded data removed]",
      "text/plain": [
       "<Figure size 432x288 with 1 Axes>"
      ]
     },
     "metadata": {
      "needs_background": "light"
     },
     "output_type": "display_data"
    },
    {
     "name": "stdout",
     "output_type": "stream",
     "text": [
      "mean value:  440.2\n"
     ]
    }
   ],
   "source": [
    "plot_res(resultscp41, iters, 440)\n",
    "print(\"mean value: \", np.mean(resultscp41))"
   ]
  },
  {
   "cell_type": "markdown",
   "metadata": {},
   "source": [
    "Test SCP51"
   ]
  },
  {
   "cell_type": "code",
   "execution_count": 18,
   "metadata": {},
   "outputs": [],
   "source": [
    "resultscp51 = test(testcases[1], num_iterations=200, run=10, Q=2000, num_ants=30)"
   ]
  },
  {
   "cell_type": "code",
   "execution_count": 39,
   "metadata": {},
   "outputs": [
    {
     "data": {
      "image/png": "[encoded data removed]",
      "text/plain": [
       "<Figure size 432x288 with 1 Axes>"
      ]
     },
     "metadata": {
      "needs_background": "light"
     },
     "output_type": "display_data"
    },
    {
     "name": "stdout",
     "output_type": "stream",
     "text": [
      "mean value:  263.9\n"
     ]
    }
   ],
   "source": [
    "plot_res(resultscp51, iters, 265)\n",
    "print(\"mean value: \", np.mean(resultscp51))"
   ]
  },
  {
   "cell_type": "markdown",
   "metadata": {},
   "source": [
    "Test SCP54"
   ]
  },
  {
   "cell_type": "code",
   "execution_count": 20,
   "metadata": {},
   "outputs": [],
   "source": [
    "resultscp54 = test(testcases[2], num_iterations=200, run=10, Q=2000, num_ants=30)"
   ]
  },
  {
   "cell_type": "code",
   "execution_count": 41,
   "metadata": {},
   "outputs": [
    {
     "data": {
      "image/png": "[encoded data removed]",
      "text/plain": [
       "<Figure size 432x288 with 1 Axes>"
      ]
     },
     "metadata": {
      "needs_background": "light"
     },
     "output_type": "display_data"
    },
    {
     "name": "stdout",
     "output_type": "stream",
     "text": [
      "mean value:  249.4\n"
     ]
    }
   ],
   "source": [
    "plot_res(resultscp54, iters, 250)\n",
    "print(\"mean value: \", np.mean(resultscp54))"
   ]
  },
  {
   "cell_type": "markdown",
   "metadata": {},
   "source": [
    "Test SCPA2"
   ]
  },
  {
   "cell_type": "code",
   "execution_count": 22,
   "metadata": {},
   "outputs": [],
   "source": [
    "resultscpa2 = test(testcases[3], num_iterations=200, run=10, Q=3000, num_ants=30)"
   ]
  },
  {
   "cell_type": "code",
   "execution_count": 43,
   "metadata": {},
   "outputs": [
    {
     "data": {
      "image/png": "[encoded data removed]",
      "text/plain": [
       "<Figure size 432x288 with 1 Axes>"
      ]
     },
     "metadata": {
      "needs_background": "light"
     },
     "output_type": "display_data"
    },
    {
     "name": "stdout",
     "output_type": "stream",
     "text": [
      "mean value:  261.2\n"
     ]
    }
   ],
   "source": [
    "plot_res(resultscpa2, iters, 260)\n",
    "print(\"mean value: \", np.mean(resultscpa2))"
   ]
  },
  {
   "cell_type": "markdown",
   "metadata": {},
   "source": [
    "Test SCPB1"
   ]
  },
  {
   "cell_type": "code",
   "execution_count": 7,
   "metadata": {},
   "outputs": [],
   "source": [
    "resultscpb1 = test(testcases[4], num_iterations=200, run=10, Q=3000, num_ants=30)"
   ]
  },
  {
   "cell_type": "code",
   "execution_count": 50,
   "metadata": {},
   "outputs": [
    {
     "data": {
      "image/png": "[encoded data removed]",
      "text/plain": [
       "<Figure size 432x288 with 1 Axes>"
      ]
     },
     "metadata": {
      "needs_background": "light"
     },
     "output_type": "display_data"
    },
    {
     "name": "stdout",
     "output_type": "stream",
     "text": [
      "mean value:  70.3\n"
     ]
    }
   ],
   "source": [
    "plot_res(resultscpb1, iters, 69)\n",
    "print(\"mean value: \", np.mean(resultscpb1))"
   ]
  }
 ],
 "metadata": {
  "kernelspec": {
   "display_name": "Python 3",
   "language": "python",
   "name": "python3"
  },
  "language_info": {
   "codemirror_mode": {
    "name": "ipython",
    "version": 3
   },
   "file_extension": ".py",
   "mimetype": "text/x-python",
   "name": "python",
   "nbconvert_exporter": "python",
   "pygments_lexer": "ipython3",
   "version": "3.9.13"
  }
 },
 "nbformat": 4,
 "nbformat_minor": 2
}
